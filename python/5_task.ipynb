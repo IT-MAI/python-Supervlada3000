{
 "cells": [
  {
   "cell_type": "markdown",
   "id": "85755de8",
   "metadata": {},
   "source": [
    "# Самостоятельное задание #5\n",
    "\n",
    "\n",
    "### Задание 1\n",
    "\n",
    "Допишите функцию, которая принимает список, выбирает из него все элементы с четным индексом и возвращает их в виде списка."
   ]
  },
  {
   "cell_type": "code",
   "execution_count": 2,
   "id": "6ef6d9b3",
   "metadata": {},
   "outputs": [
    {
     "name": "stdout",
     "output_type": "stream",
     "text": [
      "[0, 2, 4]\n"
     ]
    }
   ],
   "source": [
    "def f():\n",
    "    k = []\n",
    "    for i in range (len(a)-1):\n",
    "        if i % 2 == 0:\n",
    "            k.append(a[i])\n",
    "    return k\n",
    "a = [0, 1, 2, 3, 4, 5]\n",
    "print (f())\n",
    "        \n",
    "    \n",
    "    \n",
    "    "
   ]
  },
  {
   "cell_type": "markdown",
   "id": "443974c9",
   "metadata": {},
   "source": [
    "### Задание 2\n",
    "\n",
    "Допишите функцию, которая принимает список, выбирает из него все элементы, которые больше предыдущего и возвращает их в виде списка.\n"
   ]
  },
  {
   "cell_type": "code",
   "execution_count": 1,
   "id": "3a8cf925",
   "metadata": {},
   "outputs": [
    {
     "name": "stdout",
     "output_type": "stream",
     "text": [
      "[2, 4, 5, 5]\n"
     ]
    }
   ],
   "source": [
    "def f():\n",
    "    k = []\n",
    "    for i in range(len (a)-1):\n",
    "        if a[i+1]>a[i]:\n",
    "            k.append(a[i+1])\n",
    "    return k\n",
    "a = [1, 2, 4, 2, 5, 2, 5]\n",
    "print(f())"
   ]
  },
  {
   "cell_type": "markdown",
   "id": "34524ede",
   "metadata": {},
   "source": [
    "### Задание 3\n",
    "\n",
    "Допишите функцию, которая принимает список, меняет местами наибольший и наименьший элементы и возвращает этот список."
   ]
  },
  {
   "cell_type": "code",
   "execution_count": 3,
   "id": "34d2beae",
   "metadata": {},
   "outputs": [
    {
     "name": "stdout",
     "output_type": "stream",
     "text": [
      "[7, 2, 3, 4, 5, 6, 1]\n"
     ]
    }
   ],
   "source": [
    "def f():\n",
    "    mx = max(a)\n",
    "    mn = min(a)\n",
    "    mxi = -1\n",
    "    mni = -1\n",
    "    for i in range (len(a)-1):\n",
    "        if a[i]==mx:\n",
    "            mxi = i\n",
    "        if a[i]==mn:\n",
    "            mni = i\n",
    "    c = a[mxi]\n",
    "    a[mxi] = a[mni]\n",
    "    a[mni] = c\n",
    "    return a    \n",
    "a = [1, 2, 3, 4, 5, 6, 7]\n",
    "print(f())"
   ]
  }
 ],
 "metadata": {
  "kernelspec": {
   "display_name": "Python 3",
   "language": "python",
   "name": "python3"
  },
  "language_info": {
   "codemirror_mode": {
    "name": "ipython",
    "version": 3
   },
   "file_extension": ".py",
   "mimetype": "text/x-python",
   "name": "python",
   "nbconvert_exporter": "python",
   "pygments_lexer": "ipython3",
   "version": "3.8.8"
  }
 },
 "nbformat": 4,
 "nbformat_minor": 5
}
