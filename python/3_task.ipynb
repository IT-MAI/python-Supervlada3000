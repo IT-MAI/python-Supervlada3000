{
 "cells": [
  {
   "cell_type": "markdown",
   "id": "657be689",
   "metadata": {},
   "source": [
    "# Самостоятельное задание #3\n",
    "\n",
    "\n",
    "### Задание 1\n",
    "\n",
    "Допишите функцию, которая принимает массив из 10 чисел и возвращает их сумму."
   ]
  },
  {
   "cell_type": "code",
   "execution_count": 8,
   "id": "18ffcbab",
   "metadata": {},
   "outputs": [
    {
     "name": "stdout",
     "output_type": "stream",
     "text": [
      "1\n",
      "2\n",
      "3\n",
      "4\n",
      "5\n",
      "6\n",
      "7\n",
      "8\n",
      "9\n",
      "10\n",
      "55\n"
     ]
    }
   ],
   "source": [
    "def sum(a):\n",
    "    s = 0\n",
    "    for i in a:\n",
    "        s += i\n",
    "    return s\n",
    "\n",
    "b = []\n",
    "for j in range(10):\n",
    "    x = int(input())\n",
    "    b.append(x)\n",
    "print(sum(b))"
   ]
  },
  {
   "cell_type": "markdown",
   "id": "eb78afc0",
   "metadata": {},
   "source": [
    "\n",
    "### Задание 2\n",
    "\n",
    "Допишите функцию, которая принимает массив чисел и возвращает количество чисел равных нулю."
   ]
  },
  {
   "cell_type": "code",
   "execution_count": 12,
   "id": "7e8fe536",
   "metadata": {},
   "outputs": [
    {
     "name": "stdout",
     "output_type": "stream",
     "text": [
      "5\n",
      "0\n",
      "0\n",
      "5\n",
      "4\n",
      "0\n",
      "3\n"
     ]
    }
   ],
   "source": [
    "def zero(b):\n",
    "    s = 0 \n",
    "    for i in range(len(b)):\n",
    "        if b[i] == 0:\n",
    "            s += 1\n",
    "    return s\n",
    "\n",
    "b = []\n",
    "n = int(input())\n",
    "for j in range(n):\n",
    "    x = int(input())\n",
    "    b.append(x)\n",
    "print(zero(b))"
   ]
  },
  {
   "cell_type": "markdown",
   "id": "570d5a26",
   "metadata": {},
   "source": [
    "\n",
    "### Задание 3\n",
    "\n",
    "Напишите программу, в которой задается  натуральное число n и выводится лестница из n ступенек, i-я ступенька должна состоять из чисел от 1 до i без пробелов."
   ]
  },
  {
   "cell_type": "code",
   "execution_count": 11,
   "id": "69fd0501",
   "metadata": {},
   "outputs": [
    {
     "name": "stdout",
     "output_type": "stream",
     "text": [
      "6\n",
      "1\n",
      "1 2\n",
      "1 2 3\n",
      "1 2 3 4\n",
      "1 2 3 4 5\n",
      "1 2 3 4 5 6\n"
     ]
    }
   ],
   "source": [
    "n = int(input())\n",
    "st = '1'\n",
    "print(st)\n",
    "for i in range(2, n+1):\n",
    "    st = st + ' ' + str(i)\n",
    "    print (st)"
   ]
  },
  {
   "cell_type": "markdown",
   "id": "b6ef1c44",
   "metadata": {},
   "source": [
    "\n",
    "### Задание 4\n",
    "\n",
    "Напишите программу, в которой задается натуральное число n и выводится пирамида из n ступенек, i-я ступень должна состоять из чисел от 1 до i и обратно без пробелов."
   ]
  },
  {
   "cell_type": "code",
   "execution_count": 4,
   "id": "6b038f87",
   "metadata": {},
   "outputs": [
    {
     "name": "stdout",
     "output_type": "stream",
     "text": [
      "5\n",
      "    1\n",
      "   121\n",
      "  12321\n",
      " 1234321\n",
      "123454321\n"
     ]
    }
   ],
   "source": [
    "n = int(input())\n",
    "for i in range(n):\n",
    "    print(' ' *(n - i - 1), end='')\n",
    "    for j in range(i + 1):\n",
    "        print(j + 1, end='')\n",
    "    for j in range(i):\n",
    "        print(i-j, end='')\n",
    "    print()"
   ]
  },
  {
   "cell_type": "code",
   "execution_count": 5,
   "id": "b9c93d28",
   "metadata": {},
   "outputs": [
    {
     "name": "stdout",
     "output_type": "stream",
     "text": [
      "3\n",
      "  1\n",
      " 121\n",
      "12321\n"
     ]
    }
   ],
   "source": [
    "n = int(input())\n",
    "for i in range(n):\n",
    "    s = [' ' * (n - i - 1)]\n",
    "    n1 = [str(x + 1) for x in range(i + 1)]\n",
    "    n2 = [str(i - x) for x in range(i)]\n",
    "    print (''.join(s + n1 + n2))"
   ]
  },
  {
   "cell_type": "markdown",
   "id": "b4552ef5",
   "metadata": {},
   "source": [
    "\n",
    "### Задание 5\n",
    "\n",
    "Напишите программу, в которой задается натуральное число n и выводится ромб из `n*2-1` ступенек, i-я ступень должна состоять из чисел от 1 до i и обратно без пробелов."
   ]
  },
  {
   "cell_type": "code",
   "execution_count": 16,
   "id": "62937627",
   "metadata": {},
   "outputs": [
    {
     "name": "stdout",
     "output_type": "stream",
     "text": [
      "5\n",
      "   1\n",
      "  212\n",
      " 32123\n",
      "4321234\n",
      " 32123\n",
      "  212\n",
      "   1\n"
     ]
    }
   ],
   "source": [
    "n = int(input())\n",
    "top_row = []\n",
    "for i in range(2, n+1):\n",
    "    row = [str(x) for x in range(1,i)]\n",
    "    rev_row = sorted(row, reverse=True)\n",
    "    offset = ''.join([' ' for x in range(n-i)])\n",
    "    fin_row = offset + ''.join(rev_row[:len(rev_row)-1]) + ''.join(row)\n",
    "    top_row.append(fin_row)\n",
    "for x in top_row+sorted(top_row, reverse=True)[1:]:\n",
    "    print(x)"
   ]
  },
  {
   "cell_type": "code",
   "execution_count": null,
   "id": "493651e2",
   "metadata": {},
   "outputs": [],
   "source": []
  }
 ],
 "metadata": {
  "kernelspec": {
   "display_name": "Python 3",
   "language": "python",
   "name": "python3"
  },
  "language_info": {
   "codemirror_mode": {
    "name": "ipython",
    "version": 3
   },
   "file_extension": ".py",
   "mimetype": "text/x-python",
   "name": "python",
   "nbconvert_exporter": "python",
   "pygments_lexer": "ipython3",
   "version": "3.8.8"
  }
 },
 "nbformat": 4,
 "nbformat_minor": 5
}
